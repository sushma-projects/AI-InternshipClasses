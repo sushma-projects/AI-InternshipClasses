{
  "nbformat": 4,
  "nbformat_minor": 0,
  "metadata": {
    "colab": {
      "name": "09-072020Mnist.ipynb",
      "provenance": []
    },
    "kernelspec": {
      "name": "python3",
      "display_name": "Python 3"
    }
  },
  "cells": [
    {
      "cell_type": "code",
      "metadata": {
        "id": "gS-3hFNXwJ7J",
        "colab_type": "code",
        "colab": {}
      },
      "source": [
        "import tensorflow.keras as keras\n",
        "import numpy as np\n",
        "import matplotlib.pyplot as plt\n",
        "%matplotlib inline"
      ],
      "execution_count": 1,
      "outputs": []
    },
    {
      "cell_type": "markdown",
      "metadata": {
        "id": "J4k3MxUFwlZY",
        "colab_type": "text"
      },
      "source": [
        "Load the MNIST Dataset"
      ]
    },
    {
      "cell_type": "code",
      "metadata": {
        "id": "Ciph6NLCwiiM",
        "colab_type": "code",
        "colab": {
          "base_uri": "https://localhost:8080/",
          "height": 51
        },
        "outputId": "253a611d-29dd-4b45-fea7-f400d576ac53"
      },
      "source": [
        "from keras.datasets.mnist import load_data\n",
        "(x_train,y_train),(x_test,y_test) = load_data()"
      ],
      "execution_count": 2,
      "outputs": [
        {
          "output_type": "stream",
          "text": [
            "Downloading data from https://s3.amazonaws.com/img-datasets/mnist.npz\n",
            "11493376/11490434 [==============================] - 1s 0us/step\n"
          ],
          "name": "stdout"
        }
      ]
    },
    {
      "cell_type": "code",
      "metadata": {
        "id": "AlArp-Xfw_zj",
        "colab_type": "code",
        "colab": {
          "base_uri": "https://localhost:8080/",
          "height": 34
        },
        "outputId": "4f889cc1-652f-46bb-e8f9-aa40a440314d"
      },
      "source": [
        "print(x_train.shape,y_train.shape,x_test.shape,y_test.shape)"
      ],
      "execution_count": 3,
      "outputs": [
        {
          "output_type": "stream",
          "text": [
            "(60000, 28, 28) (60000,) (10000, 28, 28) (10000,)\n"
          ],
          "name": "stdout"
        }
      ]
    },
    {
      "cell_type": "code",
      "metadata": {
        "id": "Cze2hC_axIVF",
        "colab_type": "code",
        "colab": {
          "base_uri": "https://localhost:8080/",
          "height": 34
        },
        "outputId": "9d66752e-1657-421c-85e9-0da18844ebd5"
      },
      "source": [
        "y_train"
      ],
      "execution_count": 5,
      "outputs": [
        {
          "output_type": "execute_result",
          "data": {
            "text/plain": [
              "array([5, 0, 4, ..., 5, 6, 8], dtype=uint8)"
            ]
          },
          "metadata": {
            "tags": []
          },
          "execution_count": 5
        }
      ]
    },
    {
      "cell_type": "code",
      "metadata": {
        "id": "yGCPlhoBxQ1b",
        "colab_type": "code",
        "colab": {
          "base_uri": "https://localhost:8080/",
          "height": 34
        },
        "outputId": "04046ce6-1591-4f29-8e77-b3a60835242d"
      },
      "source": [
        "len(y_train)"
      ],
      "execution_count": 6,
      "outputs": [
        {
          "output_type": "execute_result",
          "data": {
            "text/plain": [
              "60000"
            ]
          },
          "metadata": {
            "tags": []
          },
          "execution_count": 6
        }
      ]
    },
    {
      "cell_type": "code",
      "metadata": {
        "id": "93RBiPR1y4Vf",
        "colab_type": "code",
        "colab": {
          "base_uri": "https://localhost:8080/",
          "height": 204
        },
        "outputId": "31504905-42fb-4a13-c090-0bb7e69deaf4"
      },
      "source": [
        "import pandas as pd\n",
        "pd.Series(y_train).value_counts()"
      ],
      "execution_count": 7,
      "outputs": [
        {
          "output_type": "execute_result",
          "data": {
            "text/plain": [
              "1    6742\n",
              "7    6265\n",
              "3    6131\n",
              "2    5958\n",
              "9    5949\n",
              "0    5923\n",
              "6    5918\n",
              "8    5851\n",
              "4    5842\n",
              "5    5421\n",
              "dtype: int64"
            ]
          },
          "metadata": {
            "tags": []
          },
          "execution_count": 7
        }
      ]
    },
    {
      "cell_type": "code",
      "metadata": {
        "id": "ZWtjPayxzP3L",
        "colab_type": "code",
        "colab": {
          "base_uri": "https://localhost:8080/",
          "height": 204
        },
        "outputId": "b4efc34a-b30e-4cb7-8c67-38b01f749017"
      },
      "source": [
        "pd.Series(y_test).value_counts()"
      ],
      "execution_count": 8,
      "outputs": [
        {
          "output_type": "execute_result",
          "data": {
            "text/plain": [
              "1    1135\n",
              "2    1032\n",
              "7    1028\n",
              "3    1010\n",
              "9    1009\n",
              "4     982\n",
              "0     980\n",
              "8     974\n",
              "6     958\n",
              "5     892\n",
              "dtype: int64"
            ]
          },
          "metadata": {
            "tags": []
          },
          "execution_count": 8
        }
      ]
    },
    {
      "cell_type": "code",
      "metadata": {
        "id": "cyw9Y7RIzVyV",
        "colab_type": "code",
        "colab": {
          "base_uri": "https://localhost:8080/",
          "height": 282
        },
        "outputId": "6cc107b8-e46a-47d0-a6b9-dc684d2f6a40"
      },
      "source": [
        "plt.imshow(x_train[0])"
      ],
      "execution_count": 9,
      "outputs": [
        {
          "output_type": "execute_result",
          "data": {
            "text/plain": [
              "<matplotlib.image.AxesImage at 0x7feee8f76780>"
            ]
          },
          "metadata": {
            "tags": []
          },
          "execution_count": 9
        },
        {
          "output_type": "display_data",
          "data": {
            "image/png": "[encoded data removed]",
            "text/plain": [
              "<Figure size 432x288 with 1 Axes>"
            ]
          },
          "metadata": {
            "tags": [],
            "needs_background": "light"
          }
        }
      ]
    },
    {
      "cell_type": "code",
      "metadata": {
        "id": "k9tO2chl0FyG",
        "colab_type": "code",
        "colab": {
          "base_uri": "https://localhost:8080/",
          "height": 298
        },
        "outputId": "7673ebf5-bbbb-4087-ff64-bc03d0b792f3"
      },
      "source": [
        "plt.imshow(x_train[0],cmap=\"gray\")\n",
        "plt.title(\"Digit  \"+str(y_train[0]))"
      ],
      "execution_count": 13,
      "outputs": [
        {
          "output_type": "execute_result",
          "data": {
            "text/plain": [
              "Text(0.5, 1.0, 'Digit  5')"
            ]
          },
          "metadata": {
            "tags": []
          },
          "execution_count": 13
        },
        {
          "output_type": "display_data",
          "data": {
            "image/png": "[encoded data removed]",
            "text/plain": [
              "<Figure size 432x288 with 1 Axes>"
            ]
          },
          "metadata": {
            "tags": [],
            "needs_background": "light"
          }
        }
      ]
    },
    {
      "cell_type": "code",
      "metadata": {
        "id": "iSfYqfrU0h4v",
        "colab_type": "code",
        "colab": {
          "base_uri": "https://localhost:8080/",
          "height": 792
        },
        "outputId": "0112f5ed-08ed-4c1a-e524-e2c75f24fd3f"
      },
      "source": [
        "plt.hist(x_train[0])"
      ],
      "execution_count": 14,
      "outputs": [
        {
          "output_type": "execute_result",
          "data": {
            "text/plain": [
              "(array([[28.,  0.,  0.,  0.,  0.,  0.,  0.,  0.,  0.,  0.],\n",
              "        [28.,  0.,  0.,  0.,  0.,  0.,  0.,  0.,  0.,  0.],\n",
              "        [28.,  0.,  0.,  0.,  0.,  0.,  0.,  0.,  0.,  0.],\n",
              "        [28.,  0.,  0.,  0.,  0.,  0.,  0.,  0.,  0.,  0.],\n",
              "        [26.,  0.,  1.,  0.,  0.,  1.,  0.,  0.,  0.,  0.],\n",
              "        [26.,  0.,  0.,  0.,  0.,  0.,  1.,  0.,  0.,  1.],\n",
              "        [26.,  0.,  0.,  0.,  0.,  0.,  0.,  0.,  1.,  1.],\n",
              "        [24.,  1.,  0.,  0.,  0.,  0.,  1.,  0.,  0.,  2.],\n",
              "        [21.,  1.,  0.,  1.,  0.,  0.,  0.,  0.,  3.,  2.],\n",
              "        [20.,  1.,  1.,  0.,  0.,  1.,  1.,  0.,  0.,  4.],\n",
              "        [20.,  0.,  0.,  1.,  1.,  1.,  0.,  0.,  1.,  4.],\n",
              "        [18.,  0.,  0.,  0.,  1.,  1.,  2.,  0.,  0.,  6.],\n",
              "        [15.,  2.,  0.,  0.,  0.,  1.,  1.,  1.,  1.,  7.],\n",
              "        [15.,  0.,  0.,  2.,  0.,  1.,  0.,  2.,  1.,  7.],\n",
              "        [16.,  2.,  1.,  1.,  0.,  0.,  0.,  1.,  2.,  5.],\n",
              "        [18.,  0.,  0.,  0.,  0.,  1.,  1.,  3.,  0.,  5.],\n",
              "        [15.,  1.,  0.,  2.,  2.,  0.,  0.,  1.,  0.,  7.],\n",
              "        [16.,  0.,  0.,  0.,  1.,  1.,  1.,  1.,  0.,  8.],\n",
              "        [19.,  0.,  0.,  2.,  0.,  1.,  1.,  0.,  1.,  4.],\n",
              "        [20.,  2.,  0.,  1.,  0.,  0.,  1.,  2.,  1.,  1.],\n",
              "        [24.,  0.,  1.,  1.,  0.,  0.,  1.,  0.,  0.,  1.],\n",
              "        [25.,  0.,  1.,  0.,  0.,  0.,  0.,  0.,  0.,  2.],\n",
              "        [25.,  1.,  0.,  0.,  0.,  0.,  0.,  1.,  0.,  1.],\n",
              "        [26.,  0.,  1.,  0.,  1.,  0.,  0.,  0.,  0.,  0.],\n",
              "        [28.,  0.,  0.,  0.,  0.,  0.,  0.,  0.,  0.,  0.],\n",
              "        [28.,  0.,  0.,  0.,  0.,  0.,  0.,  0.,  0.,  0.],\n",
              "        [28.,  0.,  0.,  0.,  0.,  0.,  0.,  0.,  0.,  0.],\n",
              "        [28.,  0.,  0.,  0.,  0.,  0.,  0.,  0.,  0.,  0.]]),\n",
              " array([  0. ,  25.5,  51. ,  76.5, 102. , 127.5, 153. , 178.5, 204. ,\n",
              "        229.5, 255. ]),\n",
              " <a list of 28 Lists of Patches objects>)"
            ]
          },
          "metadata": {
            "tags": []
          },
          "execution_count": 14
        },
        {
          "output_type": "display_data",
          "data": {
            "image/png": "[encoded data removed]",
            "text/plain": [
              "<Figure size 432x288 with 1 Axes>"
            ]
          },
          "metadata": {
            "tags": [],
            "needs_background": "light"
          }
        }
      ]
    },
    {
      "cell_type": "code",
      "metadata": {
        "id": "Ubn3Mn9z1hyP",
        "colab_type": "code",
        "colab": {
          "base_uri": "https://localhost:8080/",
          "height": 333
        },
        "outputId": "229040da-6dc9-4a4d-ce80-b0c51801bcd0"
      },
      "source": [
        "plt.hist(x_train[0].flat)"
      ],
      "execution_count": 15,
      "outputs": [
        {
          "output_type": "execute_result",
          "data": {
            "text/plain": [
              "(array([639.,  11.,   6.,  11.,   6.,   9.,  11.,  12.,  11.,  68.]),\n",
              " array([  0. ,  25.5,  51. ,  76.5, 102. , 127.5, 153. , 178.5, 204. ,\n",
              "        229.5, 255. ]),\n",
              " <a list of 10 Patch objects>)"
            ]
          },
          "metadata": {
            "tags": []
          },
          "execution_count": 15
        },
        {
          "output_type": "display_data",
          "data": {
            "image/png": "[encoded data removed]",
            "text/plain": [
              "<Figure size 432x288 with 1 Axes>"
            ]
          },
          "metadata": {
            "tags": [],
            "needs_background": "light"
          }
        }
      ]
    },
    {
      "cell_type": "code",
      "metadata": {
        "id": "AysWbEo72G9C",
        "colab_type": "code",
        "colab": {
          "base_uri": "https://localhost:8080/",
          "height": 1000
        },
        "outputId": "48874b8e-d4de-49a6-eeb3-d163005d56c9"
      },
      "source": [
        "plt.hist(x_train[0].flat,bins=250)"
      ],
      "execution_count": 16,
      "outputs": [
        {
          "output_type": "execute_result",
          "data": {
            "text/plain": [
              "(array([620.,   3.,   1.,   0.,   0.,   0.,   0.,   0.,   1.,   0.,   3.,\n",
              "          0.,   0.,   1.,   0.,   2.,   0.,   5.,   0.,   0.,   0.,   0.,\n",
              "          1.,   1.,   1.,   1.,   1.,   0.,   0.,   1.,   0.,   0.,   0.,\n",
              "          0.,   1.,   1.,   0.,   0.,   2.,   0.,   0.,   0.,   1.,   0.,\n",
              "          1.,   1.,   0.,   0.,   1.,   0.,   0.,   0.,   0.,   1.,   1.,\n",
              "          0.,   0.,   0.,   0.,   0.,   0.,   0.,   2.,   0.,   1.,   0.,\n",
              "          0.,   0.,   1.,   0.,   0.,   0.,   0.,   0.,   0.,   0.,   1.,\n",
              "          0.,   2.,   2.,   2.,   0.,   0.,   0.,   0.,   0.,   0.,   0.,\n",
              "          1.,   0.,   0.,   2.,   1.,   0.,   0.,   0.,   0.,   0.,   0.,\n",
              "          0.,   0.,   0.,   0.,   0.,   1.,   1.,   0.,   0.,   0.,   0.,\n",
              "          0.,   1.,   0.,   0.,   0.,   0.,   1.,   0.,   0.,   0.,   0.,\n",
              "          0.,   0.,   1.,   1.,   0.,   0.,   1.,   0.,   1.,   1.,   0.,\n",
              "          1.,   2.,   0.,   0.,   1.,   0.,   0.,   0.,   0.,   0.,   0.,\n",
              "          0.,   0.,   1.,   0.,   1.,   0.,   0.,   3.,   0.,   1.,   0.,\n",
              "          0.,   0.,   1.,   0.,   0.,   0.,   0.,   0.,   1.,   0.,   0.,\n",
              "          0.,   1.,   1.,   2.,   0.,   0.,   1.,   0.,   0.,   0.,   0.,\n",
              "          0.,   0.,   2.,   1.,   0.,   0.,   1.,   1.,   0.,   0.,   2.,\n",
              "          0.,   0.,   0.,   0.,   2.,   0.,   0.,   2.,   0.,   0.,   1.,\n",
              "          0.,   0.,   1.,   0.,   1.,   0.,   0.,   0.,   0.,   1.,   1.,\n",
              "          0.,   0.,   0.,   0.,   0.,   2.,   0.,   1.,   0.,   0.,   0.,\n",
              "          2.,   1.,   0.,   0.,   1.,   0.,   0.,   0.,   0.,   0.,   0.,\n",
              "          0.,   0.,   1.,   0.,   1.,   2.,   1.,   0.,   1.,   0.,   0.,\n",
              "          2.,   0.,   2.,   1.,   1.,   1.,  54.,   1.]),\n",
              " array([  0.  ,   1.02,   2.04,   3.06,   4.08,   5.1 ,   6.12,   7.14,\n",
              "          8.16,   9.18,  10.2 ,  11.22,  12.24,  13.26,  14.28,  15.3 ,\n",
              "         16.32,  17.34,  18.36,  19.38,  20.4 ,  21.42,  22.44,  23.46,\n",
              "         24.48,  25.5 ,  26.52,  27.54,  28.56,  29.58,  30.6 ,  31.62,\n",
              "         32.64,  33.66,  34.68,  35.7 ,  36.72,  37.74,  38.76,  39.78,\n",
              "         40.8 ,  41.82,  42.84,  43.86,  44.88,  45.9 ,  46.92,  47.94,\n",
              "         48.96,  49.98,  51.  ,  52.02,  53.04,  54.06,  55.08,  56.1 ,\n",
              "         57.12,  58.14,  59.16,  60.18,  61.2 ,  62.22,  63.24,  64.26,\n",
              "         65.28,  66.3 ,  67.32,  68.34,  69.36,  70.38,  71.4 ,  72.42,\n",
              "         73.44,  74.46,  75.48,  76.5 ,  77.52,  78.54,  79.56,  80.58,\n",
              "         81.6 ,  82.62,  83.64,  84.66,  85.68,  86.7 ,  87.72,  88.74,\n",
              "         89.76,  90.78,  91.8 ,  92.82,  93.84,  94.86,  95.88,  96.9 ,\n",
              "         97.92,  98.94,  99.96, 100.98, 102.  , 103.02, 104.04, 105.06,\n",
              "        106.08, 107.1 , 108.12, 109.14, 110.16, 111.18, 112.2 , 113.22,\n",
              "        114.24, 115.26, 116.28, 117.3 , 118.32, 119.34, 120.36, 121.38,\n",
              "        122.4 , 123.42, 124.44, 125.46, 126.48, 127.5 , 128.52, 129.54,\n",
              "        130.56, 131.58, 132.6 , 133.62, 134.64, 135.66, 136.68, 137.7 ,\n",
              "        138.72, 139.74, 140.76, 141.78, 142.8 , 143.82, 144.84, 145.86,\n",
              "        146.88, 147.9 , 148.92, 149.94, 150.96, 151.98, 153.  , 154.02,\n",
              "        155.04, 156.06, 157.08, 158.1 , 159.12, 160.14, 161.16, 162.18,\n",
              "        163.2 , 164.22, 165.24, 166.26, 167.28, 168.3 , 169.32, 170.34,\n",
              "        171.36, 172.38, 173.4 , 174.42, 175.44, 176.46, 177.48, 178.5 ,\n",
              "        179.52, 180.54, 181.56, 182.58, 183.6 , 184.62, 185.64, 186.66,\n",
              "        187.68, 188.7 , 189.72, 190.74, 191.76, 192.78, 193.8 , 194.82,\n",
              "        195.84, 196.86, 197.88, 198.9 , 199.92, 200.94, 201.96, 202.98,\n",
              "        204.  , 205.02, 206.04, 207.06, 208.08, 209.1 , 210.12, 211.14,\n",
              "        212.16, 213.18, 214.2 , 215.22, 216.24, 217.26, 218.28, 219.3 ,\n",
              "        220.32, 221.34, 222.36, 223.38, 224.4 , 225.42, 226.44, 227.46,\n",
              "        228.48, 229.5 , 230.52, 231.54, 232.56, 233.58, 234.6 , 235.62,\n",
              "        236.64, 237.66, 238.68, 239.7 , 240.72, 241.74, 242.76, 243.78,\n",
              "        244.8 , 245.82, 246.84, 247.86, 248.88, 249.9 , 250.92, 251.94,\n",
              "        252.96, 253.98, 255.  ]),\n",
              " <a list of 250 Patch objects>)"
            ]
          },
          "metadata": {
            "tags": []
          },
          "execution_count": 16
        },
        {
          "output_type": "display_data",
          "data": {
            "image/png": "[encoded data removed]",
            "text/plain": [
              "<Figure size 432x288 with 1 Axes>"
            ]
          },
          "metadata": {
            "tags": [],
            "needs_background": "light"
          }
        }
      ]
    },
    {
      "cell_type": "code",
      "metadata": {
        "id": "6Fy6vaxG2U8S",
        "colab_type": "code",
        "colab": {
          "base_uri": "https://localhost:8080/",
          "height": 333
        },
        "outputId": "6d6e9b3a-a623-40e6-9846-28cda3c95257"
      },
      "source": [
        "plt.hist(x_train[14].flat)"
      ],
      "execution_count": 18,
      "outputs": [
        {
          "output_type": "execute_result",
          "data": {
            "text/plain": [
              "(array([713.,  17.,   1.,   2.,  10.,   0.,   4.,   4.,   2.,  31.]),\n",
              " array([  0. ,  25.5,  51. ,  76.5, 102. , 127.5, 153. , 178.5, 204. ,\n",
              "        229.5, 255. ]),\n",
              " <a list of 10 Patch objects>)"
            ]
          },
          "metadata": {
            "tags": []
          },
          "execution_count": 18
        },
        {
          "output_type": "display_data",
          "data": {
            "image/png": "[encoded data removed]",
            "text/plain": [
              "<Figure size 432x288 with 1 Axes>"
            ]
          },
          "metadata": {
            "tags": [],
            "needs_background": "light"
          }
        }
      ]
    },
    {
      "cell_type": "code",
      "metadata": {
        "id": "G1drJzFJ3pZd",
        "colab_type": "code",
        "colab": {
          "base_uri": "https://localhost:8080/",
          "height": 102
        },
        "outputId": "ccaf36ba-0fd5-424d-bd34-ff9718261afb"
      },
      "source": [
        "x_train[0][5:10,22:25]"
      ],
      "execution_count": 19,
      "outputs": [
        {
          "output_type": "execute_result",
          "data": {
            "text/plain": [
              "array([[247, 127,   0],\n",
              "       [195,  64,   0],\n",
              "       [ 39,   0,   0],\n",
              "       [  0,   0,   0],\n",
              "       [  0,   0,   0]], dtype=uint8)"
            ]
          },
          "metadata": {
            "tags": []
          },
          "execution_count": 19
        }
      ]
    },
    {
      "cell_type": "code",
      "metadata": {
        "id": "7lrYz5im368h",
        "colab_type": "code",
        "colab": {
          "base_uri": "https://localhost:8080/",
          "height": 34
        },
        "outputId": "7c48286a-3627-48e6-c861-c075f0d487ad"
      },
      "source": [
        "y_train[10:16]"
      ],
      "execution_count": 21,
      "outputs": [
        {
          "output_type": "execute_result",
          "data": {
            "text/plain": [
              "array([3, 5, 3, 6, 1, 7], dtype=uint8)"
            ]
          },
          "metadata": {
            "tags": []
          },
          "execution_count": 21
        }
      ]
    },
    {
      "cell_type": "code",
      "metadata": {
        "id": "L8r4pcv-4dEa",
        "colab_type": "code",
        "colab": {
          "base_uri": "https://localhost:8080/",
          "height": 51
        },
        "outputId": "e13fd13d-3076-4d17-a293-c99444459e62"
      },
      "source": [
        "samples = np.random.randint(x_train.shape[0],size=16)\n",
        "samples"
      ],
      "execution_count": 22,
      "outputs": [
        {
          "output_type": "execute_result",
          "data": {
            "text/plain": [
              "array([35565, 29200, 53905, 31254, 44564, 17562, 36994,  1529, 26795,\n",
              "        1631, 37743, 43530, 56156, 51289, 54406, 24956])"
            ]
          },
          "metadata": {
            "tags": []
          },
          "execution_count": 22
        }
      ]
    },
    {
      "cell_type": "code",
      "metadata": {
        "id": "Rf8PjZg-7Rps",
        "colab_type": "code",
        "colab": {
          "base_uri": "https://localhost:8080/",
          "height": 482
        },
        "outputId": "0ce997e6-bada-4912-89a5-5d0688f82c71"
      },
      "source": [
        "plt.figure(figsize=(8,8))\n",
        "for i in range(len(samples)):\n",
        "  plt.subplot(4,4,i+1)\n",
        "  plt.imshow(x_train[samples[i]],cmap=\"gray\")\n",
        "  plt.title(\"Digits:  \"+str(y_train[samples[i]]))\n",
        "  plt.axis('off')\n"
      ],
      "execution_count": 28,
      "outputs": [
        {
          "output_type": "display_data",
          "data": {
            "image/png": "[encoded data removed]",
            "text/plain": [
              "<Figure size 576x576 with 16 Axes>"
            ]
          },
          "metadata": {
            "tags": [],
            "needs_background": "light"
          }
        }
      ]
    },
    {
      "cell_type": "code",
      "metadata": {
        "id": "UB01jlsU8Hxo",
        "colab_type": "code",
        "colab": {
          "base_uri": "https://localhost:8080/",
          "height": 482
        },
        "outputId": "f6354108-8f50-4ec5-8c6b-e163b404572e"
      },
      "source": [
        "plt.figure(figsize=(8,8))\n",
        "for i in range(len(samples)):\n",
        "  plt.subplot(4,4,i+1)\n",
        "  plt.hist(x_train[samples[i]])\n",
        "  plt.title(\"Digits:  \"+str(y_train[samples[i]]))\n",
        "  plt.axis('off')"
      ],
      "execution_count": 30,
      "outputs": [
        {
          "output_type": "display_data",
          "data": {
            "image/png": "[encoded data removed]",
            "text/plain": [
              "<Figure size 576x576 with 16 Axes>"
            ]
          },
          "metadata": {
            "tags": [],
            "needs_background": "light"
          }
        }
      ]
    },
    {
      "cell_type": "code",
      "metadata": {
        "id": "h0Kgm8Yq8t_G",
        "colab_type": "code",
        "colab": {}
      },
      "source": [
        "#Scaling data\n",
        "x_train_sc = x_train/255.0\n",
        "x_test_sc = x_test/255.0"
      ],
      "execution_count": 34,
      "outputs": []
    },
    {
      "cell_type": "code",
      "metadata": {
        "id": "3QS2iJJs9SZN",
        "colab_type": "code",
        "colab": {
          "base_uri": "https://localhost:8080/",
          "height": 482
        },
        "outputId": "a8a5e73b-d912-4df3-e409-7aca399af155"
      },
      "source": [
        "plt.figure(figsize=(8,8))\n",
        "for i in range(len(samples)):\n",
        "  plt.subplot(4,4,i+1)\n",
        "  plt.hist(x_train_sc[samples[i]])\n",
        "  plt.title(\"Digits:  \"+str(y_train[samples[i]]))\n",
        "  plt.axis('off')"
      ],
      "execution_count": 35,
      "outputs": [
        {
          "output_type": "display_data",
          "data": {
            "image/png": "[encoded data removed]",
            "text/plain": [
              "<Figure size 576x576 with 16 Axes>"
            ]
          },
          "metadata": {
            "tags": [],
            "needs_background": "light"
          }
        }
      ]
    },
    {
      "cell_type": "code",
      "metadata": {
        "id": "WJSg1Q2s9WhM",
        "colab_type": "code",
        "colab": {
          "base_uri": "https://localhost:8080/",
          "height": 85
        },
        "outputId": "3a03ef14-b8d8-4fa5-bd2a-234db78b499c"
      },
      "source": [
        "#Converting labels into categorical\n",
        "from keras.utils import to_categorical\n",
        "y_train_cat = to_categorical(y_train)\n",
        "y_train_cat[1:5]"
      ],
      "execution_count": 36,
      "outputs": [
        {
          "output_type": "execute_result",
          "data": {
            "text/plain": [
              "array([[1., 0., 0., 0., 0., 0., 0., 0., 0., 0.],\n",
              "       [0., 0., 0., 0., 1., 0., 0., 0., 0., 0.],\n",
              "       [0., 1., 0., 0., 0., 0., 0., 0., 0., 0.],\n",
              "       [0., 0., 0., 0., 0., 0., 0., 0., 0., 1.]], dtype=float32)"
            ]
          },
          "metadata": {
            "tags": []
          },
          "execution_count": 36
        }
      ]
    },
    {
      "cell_type": "code",
      "metadata": {
        "id": "TSUflc3t-MLE",
        "colab_type": "code",
        "colab": {
          "base_uri": "https://localhost:8080/",
          "height": 85
        },
        "outputId": "57508b6c-fc86-4ec6-fcf0-3b1ed6dafe70"
      },
      "source": [
        "y_test_cat = to_categorical(y_test)\n",
        "y_test_cat[1:5]"
      ],
      "execution_count": 37,
      "outputs": [
        {
          "output_type": "execute_result",
          "data": {
            "text/plain": [
              "array([[0., 0., 1., 0., 0., 0., 0., 0., 0., 0.],\n",
              "       [0., 1., 0., 0., 0., 0., 0., 0., 0., 0.],\n",
              "       [1., 0., 0., 0., 0., 0., 0., 0., 0., 0.],\n",
              "       [0., 0., 0., 0., 1., 0., 0., 0., 0., 0.]], dtype=float32)"
            ]
          },
          "metadata": {
            "tags": []
          },
          "execution_count": 37
        }
      ]
    },
    {
      "cell_type": "code",
      "metadata": {
        "id": "_dU2rwif-WGa",
        "colab_type": "code",
        "colab": {
          "base_uri": "https://localhost:8080/",
          "height": 34
        },
        "outputId": "77c2de9e-bc62-4f3b-ed26-2117c65dc05b"
      },
      "source": [
        "from sklearn.model_selection import train_test_split\n",
        "x_tr,x_val,y_tr,y_val = train_test_split(x_train_sc,y_train_cat,test_size=0.2,random_state=32)\n",
        "print(x_tr.shape,y_tr.shape,x_val.shape,y_val.shape)"
      ],
      "execution_count": 52,
      "outputs": [
        {
          "output_type": "stream",
          "text": [
            "(48000, 28, 28) (48000, 10) (12000, 28, 28) (12000, 10)\n"
          ],
          "name": "stdout"
        }
      ]
    },
    {
      "cell_type": "markdown",
      "metadata": {
        "id": "fKnhPUyK_2HC",
        "colab_type": "text"
      },
      "source": [
        "Build and Train the Model"
      ]
    },
    {
      "cell_type": "code",
      "metadata": {
        "id": "m5jAKPtb_NyP",
        "colab_type": "code",
        "colab": {}
      },
      "source": [
        "from keras.models import Sequential\n",
        "from keras.layers import Dense, Flatten"
      ],
      "execution_count": 41,
      "outputs": []
    },
    {
      "cell_type": "code",
      "metadata": {
        "id": "xVHsmW5xDB-M",
        "colab_type": "code",
        "colab": {
          "base_uri": "https://localhost:8080/",
          "height": 357
        },
        "outputId": "a50af720-89c3-47fa-8a24-89efee75fee6"
      },
      "source": [
        "#creating a base model\n",
        "model = Sequential()\n",
        "#first layer-Input \n",
        "model.add(Flatten(input_shape=(28,28)))\n",
        "#Dense - Fully Connected Hidden layers\n",
        "model.add(Dense(128,activation=\"relu\")) #784*128+128=100480\n",
        "model.add(Dense(128,activation=\"relu\")) #128*128+128=16512\n",
        "model.add(Dense(64,activation=\"relu\"))  #128*64+64=8256\n",
        "model.add(Dense(256,activation=\"relu\")) #64*256+256=16640\n",
        "#Final Layer-Output\n",
        "model.add(Dense(10,activation=\"softmax\")) #256*10+10=2570\n",
        "model.summary()"
      ],
      "execution_count": 43,
      "outputs": [
        {
          "output_type": "stream",
          "text": [
            "Model: \"sequential_1\"\n",
            "_________________________________________________________________\n",
            "Layer (type)                 Output Shape              Param #   \n",
            "=================================================================\n",
            "flatten_1 (Flatten)          (None, 784)               0         \n",
            "_________________________________________________________________\n",
            "dense_1 (Dense)              (None, 128)               100480    \n",
            "_________________________________________________________________\n",
            "dense_2 (Dense)              (None, 128)               16512     \n",
            "_________________________________________________________________\n",
            "dense_3 (Dense)              (None, 64)                8256      \n",
            "_________________________________________________________________\n",
            "dense_4 (Dense)              (None, 256)               16640     \n",
            "_________________________________________________________________\n",
            "dense_5 (Dense)              (None, 10)                2570      \n",
            "=================================================================\n",
            "Total params: 144,458\n",
            "Trainable params: 144,458\n",
            "Non-trainable params: 0\n",
            "_________________________________________________________________\n"
          ],
          "name": "stdout"
        }
      ]
    },
    {
      "cell_type": "code",
      "metadata": {
        "id": "SJQJB13BFMbP",
        "colab_type": "code",
        "colab": {}
      },
      "source": [
        "model.compile(optimizer=\"adam\",loss=keras.losses.CategoricalCrossentropy(),metrics=['accuracy'])"
      ],
      "execution_count": 50,
      "outputs": []
    },
    {
      "cell_type": "code",
      "metadata": {
        "id": "g6B7KLIiGUOI",
        "colab_type": "code",
        "colab": {
          "base_uri": "https://localhost:8080/",
          "height": 391
        },
        "outputId": "07ca32b2-038e-4940-bea7-4c167344af78"
      },
      "source": [
        "history = model.fit(x_tr,y_tr,epochs=10,validation_data=(x_val,y_val),batch_size=32)\n",
        "history"
      ],
      "execution_count": 54,
      "outputs": [
        {
          "output_type": "stream",
          "text": [
            "Train on 48000 samples, validate on 12000 samples\n",
            "Epoch 1/10\n",
            "48000/48000 [==============================] - 6s 133us/step - loss: 0.0819 - accuracy: 0.9743 - val_loss: 0.1250 - val_accuracy: 0.9643\n",
            "Epoch 2/10\n",
            "48000/48000 [==============================] - 6s 132us/step - loss: 0.0753 - accuracy: 0.9766 - val_loss: 0.1345 - val_accuracy: 0.9628\n",
            "Epoch 3/10\n",
            "48000/48000 [==============================] - 6s 132us/step - loss: 0.0704 - accuracy: 0.9772 - val_loss: 0.1168 - val_accuracy: 0.9681\n",
            "Epoch 4/10\n",
            "48000/48000 [==============================] - 6s 132us/step - loss: 0.0646 - accuracy: 0.9799 - val_loss: 0.1228 - val_accuracy: 0.9647\n",
            "Epoch 5/10\n",
            "48000/48000 [==============================] - 7s 138us/step - loss: 0.0603 - accuracy: 0.9803 - val_loss: 0.1224 - val_accuracy: 0.9657\n",
            "Epoch 6/10\n",
            "48000/48000 [==============================] - 6s 131us/step - loss: 0.0557 - accuracy: 0.9814 - val_loss: 0.1245 - val_accuracy: 0.9652\n",
            "Epoch 7/10\n",
            "48000/48000 [==============================] - 6s 131us/step - loss: 0.0526 - accuracy: 0.9825 - val_loss: 0.1285 - val_accuracy: 0.9650\n",
            "Epoch 8/10\n",
            "48000/48000 [==============================] - 7s 138us/step - loss: 0.0515 - accuracy: 0.9832 - val_loss: 0.1409 - val_accuracy: 0.9626\n",
            "Epoch 9/10\n",
            "48000/48000 [==============================] - 7s 152us/step - loss: 0.0442 - accuracy: 0.9855 - val_loss: 0.1375 - val_accuracy: 0.9671\n",
            "Epoch 10/10\n",
            "48000/48000 [==============================] - 6s 130us/step - loss: 0.0430 - accuracy: 0.9853 - val_loss: 0.1267 - val_accuracy: 0.9674\n"
          ],
          "name": "stdout"
        },
        {
          "output_type": "execute_result",
          "data": {
            "text/plain": [
              "<keras.callbacks.callbacks.History at 0x7feee76256d8>"
            ]
          },
          "metadata": {
            "tags": []
          },
          "execution_count": 54
        }
      ]
    },
    {
      "cell_type": "markdown",
      "metadata": {
        "id": "_2dGlLTvOuzH",
        "colab_type": "text"
      },
      "source": [
        "Evaluate the model"
      ]
    },
    {
      "cell_type": "code",
      "metadata": {
        "id": "hLgNMLyPLns4",
        "colab_type": "code",
        "colab": {
          "base_uri": "https://localhost:8080/",
          "height": 51
        },
        "outputId": "b14869b3-a7c9-4626-a499-cf7dcf7503e5"
      },
      "source": [
        "model.evaluate(x_test_sc,y_test_cat)"
      ],
      "execution_count": 60,
      "outputs": [
        {
          "output_type": "stream",
          "text": [
            "10000/10000 [==============================] - 0s 31us/step\n"
          ],
          "name": "stdout"
        },
        {
          "output_type": "execute_result",
          "data": {
            "text/plain": [
              "[0.12145042869814206, 0.9674000144004822]"
            ]
          },
          "metadata": {
            "tags": []
          },
          "execution_count": 60
        }
      ]
    },
    {
      "cell_type": "code",
      "metadata": {
        "id": "n8ApS-hGNTnt",
        "colab_type": "code",
        "colab": {
          "base_uri": "https://localhost:8080/",
          "height": 34
        },
        "outputId": "84845434-e1f0-48b7-e48f-5a8b6d654d8e"
      },
      "source": [
        "print(x_test.shape)"
      ],
      "execution_count": 61,
      "outputs": [
        {
          "output_type": "stream",
          "text": [
            "(10000, 28, 28)\n"
          ],
          "name": "stdout"
        }
      ]
    },
    {
      "cell_type": "code",
      "metadata": {
        "id": "ALjmIVDUQCvn",
        "colab_type": "code",
        "colab": {
          "base_uri": "https://localhost:8080/",
          "height": 34
        },
        "outputId": "d68c4290-a580-4207-d687-5f57c48903b4"
      },
      "source": [
        "print(x_test[0].shape)"
      ],
      "execution_count": 62,
      "outputs": [
        {
          "output_type": "stream",
          "text": [
            "(28, 28)\n"
          ],
          "name": "stdout"
        }
      ]
    },
    {
      "cell_type": "code",
      "metadata": {
        "id": "uklN6tFCQG07",
        "colab_type": "code",
        "colab": {
          "base_uri": "https://localhost:8080/",
          "height": 34
        },
        "outputId": "43d749f1-4647-4102-b316-0ad154aeeb9f"
      },
      "source": [
        "print(np.expand_dims(x_test_sc[0],axis=0).shape)"
      ],
      "execution_count": 66,
      "outputs": [
        {
          "output_type": "stream",
          "text": [
            "(1, 28, 28)\n"
          ],
          "name": "stdout"
        }
      ]
    },
    {
      "cell_type": "code",
      "metadata": {
        "id": "GCTBofPaQV5H",
        "colab_type": "code",
        "colab": {
          "base_uri": "https://localhost:8080/",
          "height": 68
        },
        "outputId": "33811242-66ec-4db9-d61b-9061ad96d389"
      },
      "source": [
        "model.predict(np.expand_dims(x_test_sc[0],axis=0))"
      ],
      "execution_count": 69,
      "outputs": [
        {
          "output_type": "execute_result",
          "data": {
            "text/plain": [
              "array([[8.4477323e-09, 4.1648843e-07, 6.1279003e-05, 1.5871057e-06,\n",
              "        2.1937268e-11, 7.2518920e-09, 2.3432441e-16, 9.9992085e-01,\n",
              "        7.1498460e-09, 1.5901684e-05]], dtype=float32)"
            ]
          },
          "metadata": {
            "tags": []
          },
          "execution_count": 69
        }
      ]
    },
    {
      "cell_type": "code",
      "metadata": {
        "id": "DajEiipKQ7lW",
        "colab_type": "code",
        "colab": {
          "base_uri": "https://localhost:8080/",
          "height": 34
        },
        "outputId": "dd1937da-60b4-4628-a4c9-5c3016c759ca"
      },
      "source": [
        "y_test[0]"
      ],
      "execution_count": 70,
      "outputs": [
        {
          "output_type": "execute_result",
          "data": {
            "text/plain": [
              "7"
            ]
          },
          "metadata": {
            "tags": []
          },
          "execution_count": 70
        }
      ]
    },
    {
      "cell_type": "code",
      "metadata": {
        "id": "ETPkyApDTW5v",
        "colab_type": "code",
        "colab": {
          "base_uri": "https://localhost:8080/",
          "height": 34
        },
        "outputId": "e95df006-acef-42e1-a343-2e0ffce0ce4d"
      },
      "source": [
        "model.predict_classes(np.expand_dims(x_test_sc[0],axis=0))"
      ],
      "execution_count": 83,
      "outputs": [
        {
          "output_type": "execute_result",
          "data": {
            "text/plain": [
              "array([7])"
            ]
          },
          "metadata": {
            "tags": []
          },
          "execution_count": 83
        }
      ]
    },
    {
      "cell_type": "code",
      "metadata": {
        "id": "E6ZCIaArRQ-n",
        "colab_type": "code",
        "colab": {
          "base_uri": "https://localhost:8080/",
          "height": 272
        },
        "outputId": "1db830aa-1583-4b0d-bfd4-25d7ac879159"
      },
      "source": [
        "model.predict(x_test_sc[:5])"
      ],
      "execution_count": 82,
      "outputs": [
        {
          "output_type": "execute_result",
          "data": {
            "text/plain": [
              "array([[8.4477323e-09, 4.1648843e-07, 6.1279003e-05, 1.5871071e-06,\n",
              "        2.1937268e-11, 7.2518920e-09, 2.3432351e-16, 9.9992085e-01,\n",
              "        7.1498731e-09, 1.5901684e-05],\n",
              "       [6.2866695e-10, 2.5841531e-05, 9.9016142e-01, 9.7334534e-03,\n",
              "        3.5616817e-13, 2.9515530e-05, 1.2076686e-09, 1.2582331e-07,\n",
              "        4.9649323e-05, 1.3030387e-14],\n",
              "       [9.7452528e-08, 9.9906713e-01, 1.2581317e-04, 5.4978483e-07,\n",
              "        3.9976992e-05, 6.6640940e-05, 1.7377126e-04, 6.2235990e-06,\n",
              "        5.1968935e-04, 8.6678384e-08],\n",
              "       [9.9978632e-01, 1.8705985e-12, 8.2365714e-06, 1.8143247e-06,\n",
              "        7.4302513e-08, 1.5927240e-05, 3.3301156e-05, 1.2067143e-06,\n",
              "        8.4385687e-07, 1.5220398e-04],\n",
              "       [1.4141389e-08, 3.4941462e-07, 7.9606834e-06, 3.6631570e-13,\n",
              "        9.9989092e-01, 2.6960373e-07, 1.7052631e-08, 1.8305389e-05,\n",
              "        6.9738043e-08, 8.2002145e-05]], dtype=float32)"
            ]
          },
          "metadata": {
            "tags": []
          },
          "execution_count": 82
        }
      ]
    },
    {
      "cell_type": "code",
      "metadata": {
        "id": "7hwiV_xORa0_",
        "colab_type": "code",
        "colab": {
          "base_uri": "https://localhost:8080/",
          "height": 850
        },
        "outputId": "6b97d82b-a80f-42ce-9b33-c45f63648b1b"
      },
      "source": [
        "dir(history)"
      ],
      "execution_count": 74,
      "outputs": [
        {
          "output_type": "execute_result",
          "data": {
            "text/plain": [
              "['__class__',\n",
              " '__delattr__',\n",
              " '__dict__',\n",
              " '__dir__',\n",
              " '__doc__',\n",
              " '__eq__',\n",
              " '__format__',\n",
              " '__ge__',\n",
              " '__getattribute__',\n",
              " '__gt__',\n",
              " '__hash__',\n",
              " '__init__',\n",
              " '__init_subclass__',\n",
              " '__le__',\n",
              " '__lt__',\n",
              " '__module__',\n",
              " '__ne__',\n",
              " '__new__',\n",
              " '__reduce__',\n",
              " '__reduce_ex__',\n",
              " '__repr__',\n",
              " '__setattr__',\n",
              " '__sizeof__',\n",
              " '__str__',\n",
              " '__subclasshook__',\n",
              " '__weakref__',\n",
              " 'epoch',\n",
              " 'history',\n",
              " 'model',\n",
              " 'on_batch_begin',\n",
              " 'on_batch_end',\n",
              " 'on_epoch_begin',\n",
              " 'on_epoch_end',\n",
              " 'on_predict_batch_begin',\n",
              " 'on_predict_batch_end',\n",
              " 'on_predict_begin',\n",
              " 'on_predict_end',\n",
              " 'on_test_batch_begin',\n",
              " 'on_test_batch_end',\n",
              " 'on_test_begin',\n",
              " 'on_test_end',\n",
              " 'on_train_batch_begin',\n",
              " 'on_train_batch_end',\n",
              " 'on_train_begin',\n",
              " 'on_train_end',\n",
              " 'params',\n",
              " 'set_model',\n",
              " 'set_params',\n",
              " 'validation_data']"
            ]
          },
          "metadata": {
            "tags": []
          },
          "execution_count": 74
        }
      ]
    },
    {
      "cell_type": "code",
      "metadata": {
        "id": "FU6vbYejRkb5",
        "colab_type": "code",
        "colab": {
          "base_uri": "https://localhost:8080/",
          "height": 697
        },
        "outputId": "be38e66f-87e4-4ab5-a62d-585f00fc136b"
      },
      "source": [
        "history.history"
      ],
      "execution_count": 75,
      "outputs": [
        {
          "output_type": "execute_result",
          "data": {
            "text/plain": [
              "{'accuracy': [0.9742708,\n",
              "  0.97658336,\n",
              "  0.9772083,\n",
              "  0.9799375,\n",
              "  0.98025,\n",
              "  0.98139584,\n",
              "  0.98247916,\n",
              "  0.9831667,\n",
              "  0.98552084,\n",
              "  0.9853333],\n",
              " 'loss': [0.08185264852123024,\n",
              "  0.07525204087072052,\n",
              "  0.0703608764463958,\n",
              "  0.06462094053269053,\n",
              "  0.06027184545795899,\n",
              "  0.055748173068646184,\n",
              "  0.05258030351922692,\n",
              "  0.05145937546203883,\n",
              "  0.04415993400507917,\n",
              "  0.04304608872173897],\n",
              " 'val_accuracy': [0.9642500281333923,\n",
              "  0.9628333449363708,\n",
              "  0.9680833220481873,\n",
              "  0.9647499918937683,\n",
              "  0.965666651725769,\n",
              "  0.9651666879653931,\n",
              "  0.9649999737739563,\n",
              "  0.9625833630561829,\n",
              "  0.9670833349227905,\n",
              "  0.9674166440963745],\n",
              " 'val_loss': [0.1250082875220105,\n",
              "  0.13450222031461695,\n",
              "  0.11683280411347126,\n",
              "  0.12277734842834373,\n",
              "  0.1224108665632084,\n",
              "  0.12453030208963901,\n",
              "  0.12853967935033142,\n",
              "  0.1409318404911707,\n",
              "  0.13746287639827157,\n",
              "  0.12673408210921722]}"
            ]
          },
          "metadata": {
            "tags": []
          },
          "execution_count": 75
        }
      ]
    },
    {
      "cell_type": "code",
      "metadata": {
        "id": "SZATJpvhRn7D",
        "colab_type": "code",
        "colab": {
          "base_uri": "https://localhost:8080/",
          "height": 34
        },
        "outputId": "99603849-da55-4c2e-92bd-eaeab0215877"
      },
      "source": [
        "history.history.keys()"
      ],
      "execution_count": 77,
      "outputs": [
        {
          "output_type": "execute_result",
          "data": {
            "text/plain": [
              "dict_keys(['val_loss', 'val_accuracy', 'loss', 'accuracy'])"
            ]
          },
          "metadata": {
            "tags": []
          },
          "execution_count": 77
        }
      ]
    },
    {
      "cell_type": "code",
      "metadata": {
        "id": "IfrsAR2SRvTw",
        "colab_type": "code",
        "colab": {
          "base_uri": "https://localhost:8080/",
          "height": 187
        },
        "outputId": "17bc5ea1-7696-4644-ecca-afb347beeefd"
      },
      "source": [
        "history.history['accuracy']"
      ],
      "execution_count": 79,
      "outputs": [
        {
          "output_type": "execute_result",
          "data": {
            "text/plain": [
              "[0.9742708,\n",
              " 0.97658336,\n",
              " 0.9772083,\n",
              " 0.9799375,\n",
              " 0.98025,\n",
              " 0.98139584,\n",
              " 0.98247916,\n",
              " 0.9831667,\n",
              " 0.98552084,\n",
              " 0.9853333]"
            ]
          },
          "metadata": {
            "tags": []
          },
          "execution_count": 79
        }
      ]
    },
    {
      "cell_type": "code",
      "metadata": {
        "id": "o3NI-WkjR4JU",
        "colab_type": "code",
        "colab": {
          "base_uri": "https://localhost:8080/",
          "height": 282
        },
        "outputId": "029d97a5-0c73-4777-ac82-122e79c61609"
      },
      "source": [
        "plt.plot(range(1,11), history.history['accuracy'])\n",
        "plt.plot(range(1,11), history.history['val_accuracy'])"
      ],
      "execution_count": 81,
      "outputs": [
        {
          "output_type": "execute_result",
          "data": {
            "text/plain": [
              "[<matplotlib.lines.Line2D at 0x7feee3fb95f8>]"
            ]
          },
          "metadata": {
            "tags": []
          },
          "execution_count": 81
        },
        {
          "output_type": "display_data",
          "data": {
            "image/png": "[encoded data removed]",
            "text/plain": [
              "<Figure size 432x288 with 1 Axes>"
            ]
          },
          "metadata": {
            "tags": [],
            "needs_background": "light"
          }
        }
      ]
    },
    {
      "cell_type": "code",
      "metadata": {
        "id": "EtyMmVoHSKuJ",
        "colab_type": "code",
        "colab": {}
      },
      "source": [
        ""
      ],
      "execution_count": null,
      "outputs": []
    }
  ]
}